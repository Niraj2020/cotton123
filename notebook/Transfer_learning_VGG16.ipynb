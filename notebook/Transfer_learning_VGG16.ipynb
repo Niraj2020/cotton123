{
 "cells": [
  {
   "cell_type": "markdown",
   "id": "3a5f91d6",
   "metadata": {},
   "source": [
    "# Transfer Learning VGG16 using Keras"
   ]
  },
  {
   "cell_type": "code",
   "execution_count": null,
   "id": "ceaf69e7",
   "metadata": {},
   "outputs": [],
   "source": []
  },
  {
   "cell_type": "code",
   "execution_count": null,
   "id": "893fb012",
   "metadata": {},
   "outputs": [],
   "source": []
  },
  {
   "cell_type": "code",
   "execution_count": 58,
   "id": "72f719a5",
   "metadata": {},
   "outputs": [],
   "source": [
    "import numpy as np\n",
    "from glob import glob\n",
    "from keras.models import Sequential\n",
    "from keras.applications.vgg16 import VGG16\n",
    "from keras.layers import Conv2D, MaxPooling2D, Dropout, BatchNormalization\n",
    "from keras.layers import Flatten, Dense\n",
    "from keras.preprocessing.image import ImageDataGenerator,load_img\n",
    "from tensorflow.keras.models import Model\n",
    "from tensorflow.keras.models import Sequential\n",
    "%matplotlib inline\n",
    "import matplotlib.pyplot as plt\n",
    "from tensorflow.keras.preprocessing import image\n"
   ]
  },
  {
   "cell_type": "code",
   "execution_count": null,
   "id": "3ca972af",
   "metadata": {},
   "outputs": [],
   "source": []
  },
  {
   "cell_type": "code",
   "execution_count": 59,
   "id": "c6384473",
   "metadata": {},
   "outputs": [],
   "source": [
    "# re-size all the images to this\n",
    "IMAGE_SIZE = [224, 224]\n",
    "\n",
    "train_path = 'Datasets/train'\n",
    "valid_path = 'Datasets/test'"
   ]
  },
  {
   "cell_type": "code",
   "execution_count": 3,
   "id": "103d0428",
   "metadata": {},
   "outputs": [
    {
     "name": "stdout",
     "output_type": "stream",
     "text": [
      "WARNING:tensorflow:From C:\\Users\\niraj\\anaconda3\\Lib\\site-packages\\keras\\src\\backend.py:1398: The name tf.executing_eagerly_outside_functions is deprecated. Please use tf.compat.v1.executing_eagerly_outside_functions instead.\n",
      "\n",
      "WARNING:tensorflow:From C:\\Users\\niraj\\anaconda3\\Lib\\site-packages\\keras\\src\\layers\\pooling\\max_pooling2d.py:161: The name tf.nn.max_pool is deprecated. Please use tf.nn.max_pool2d instead.\n",
      "\n"
     ]
    }
   ],
   "source": [
    "# Import the Vgg 16 library as shown below and add preprocessing layer to the front of VGG\n",
    "# Here we will be using imagenet weights\n",
    "\n",
    "vgg16 = VGG16(input_shape=IMAGE_SIZE + [3], weights='imagenet', include_top=False)"
   ]
  },
  {
   "cell_type": "code",
   "execution_count": 5,
   "id": "3fd9e15e",
   "metadata": {},
   "outputs": [],
   "source": [
    "# don't train existing weights\n",
    "for layer in vgg16.layers:\n",
    "    layer.trainable = False"
   ]
  },
  {
   "cell_type": "code",
   "execution_count": 6,
   "id": "4ef2e7c8",
   "metadata": {},
   "outputs": [],
   "source": [
    "  # useful for getting number of output classes\n",
    "folders = glob('Datasets/train/*')"
   ]
  },
  {
   "cell_type": "code",
   "execution_count": 7,
   "id": "c1a9a23e",
   "metadata": {},
   "outputs": [],
   "source": [
    "# our layers - you can add more if you want\n",
    "x=Flatten()(vgg16.output)"
   ]
  },
  {
   "cell_type": "code",
   "execution_count": 8,
   "id": "0e6e8f9d",
   "metadata": {},
   "outputs": [],
   "source": [
    "prediction = Dense(len(folders), activation='softmax')(x)\n"
   ]
  },
  {
   "cell_type": "code",
   "execution_count": 9,
   "id": "b6193fdd",
   "metadata": {},
   "outputs": [],
   "source": [
    "model=Model(inputs=vgg16.input, outputs=prediction)"
   ]
  },
  {
   "cell_type": "code",
   "execution_count": 10,
   "id": "5e3e8ab4",
   "metadata": {},
   "outputs": [
    {
     "name": "stdout",
     "output_type": "stream",
     "text": [
      "Model: \"model\"\n",
      "_________________________________________________________________\n",
      " Layer (type)                Output Shape              Param #   \n",
      "=================================================================\n",
      " input_1 (InputLayer)        [(None, 224, 224, 3)]     0         \n",
      "                                                                 \n",
      " block1_conv1 (Conv2D)       (None, 224, 224, 64)      1792      \n",
      "                                                                 \n",
      " block1_conv2 (Conv2D)       (None, 224, 224, 64)      36928     \n",
      "                                                                 \n",
      " block1_pool (MaxPooling2D)  (None, 112, 112, 64)      0         \n",
      "                                                                 \n",
      " block2_conv1 (Conv2D)       (None, 112, 112, 128)     73856     \n",
      "                                                                 \n",
      " block2_conv2 (Conv2D)       (None, 112, 112, 128)     147584    \n",
      "                                                                 \n",
      " block2_pool (MaxPooling2D)  (None, 56, 56, 128)       0         \n",
      "                                                                 \n",
      " block3_conv1 (Conv2D)       (None, 56, 56, 256)       295168    \n",
      "                                                                 \n",
      " block3_conv2 (Conv2D)       (None, 56, 56, 256)       590080    \n",
      "                                                                 \n",
      " block3_conv3 (Conv2D)       (None, 56, 56, 256)       590080    \n",
      "                                                                 \n",
      " block3_pool (MaxPooling2D)  (None, 28, 28, 256)       0         \n",
      "                                                                 \n",
      " block4_conv1 (Conv2D)       (None, 28, 28, 512)       1180160   \n",
      "                                                                 \n",
      " block4_conv2 (Conv2D)       (None, 28, 28, 512)       2359808   \n",
      "                                                                 \n",
      " block4_conv3 (Conv2D)       (None, 28, 28, 512)       2359808   \n",
      "                                                                 \n",
      " block4_pool (MaxPooling2D)  (None, 14, 14, 512)       0         \n",
      "                                                                 \n",
      " block5_conv1 (Conv2D)       (None, 14, 14, 512)       2359808   \n",
      "                                                                 \n",
      " block5_conv2 (Conv2D)       (None, 14, 14, 512)       2359808   \n",
      "                                                                 \n",
      " block5_conv3 (Conv2D)       (None, 14, 14, 512)       2359808   \n",
      "                                                                 \n",
      " block5_pool (MaxPooling2D)  (None, 7, 7, 512)         0         \n",
      "                                                                 \n",
      " flatten (Flatten)           (None, 25088)             0         \n",
      "                                                                 \n",
      " dense (Dense)               (None, 4)                 100356    \n",
      "                                                                 \n",
      "=================================================================\n",
      "Total params: 14815044 (56.51 MB)\n",
      "Trainable params: 100356 (392.02 KB)\n",
      "Non-trainable params: 14714688 (56.13 MB)\n",
      "_________________________________________________________________\n"
     ]
    }
   ],
   "source": [
    "model.summary()"
   ]
  },
  {
   "cell_type": "code",
   "execution_count": 11,
   "id": "407b91ec",
   "metadata": {},
   "outputs": [
    {
     "name": "stdout",
     "output_type": "stream",
     "text": [
      "WARNING:tensorflow:From C:\\Users\\niraj\\anaconda3\\Lib\\site-packages\\keras\\src\\optimizers\\__init__.py:309: The name tf.train.Optimizer is deprecated. Please use tf.compat.v1.train.Optimizer instead.\n",
      "\n"
     ]
    }
   ],
   "source": [
    "# tell the model what cost and optimization method to use\n",
    "model.compile(\n",
    "  loss='categorical_crossentropy',\n",
    "  optimizer='adam',\n",
    "  metrics=['accuracy']\n",
    ")"
   ]
  },
  {
   "cell_type": "code",
   "execution_count": 12,
   "id": "14265bc7",
   "metadata": {},
   "outputs": [],
   "source": [
    "# Use the Image Data Generator to import the images from the dataset\n",
    "from tensorflow.keras.preprocessing.image import ImageDataGenerator\n",
    "\n",
    "train_datagen = ImageDataGenerator(rescale = 1./255,\n",
    "                                   shear_range = 0.2,\n",
    "                                   zoom_range = 0.2,\n",
    "                                   horizontal_flip = True)\n",
    "\n",
    "test_datagen = ImageDataGenerator(rescale = 1./255)"
   ]
  },
  {
   "cell_type": "code",
   "execution_count": 13,
   "id": "691d79b3",
   "metadata": {},
   "outputs": [
    {
     "name": "stdout",
     "output_type": "stream",
     "text": [
      "Found 1951 images belonging to 4 classes.\n"
     ]
    }
   ],
   "source": [
    "# Make sure you provide the same target size as initialied for the image size\n",
    "training_set = train_datagen.flow_from_directory('Datasets/train',\n",
    "                                                 target_size = (224, 224),\n",
    "                                                 batch_size = 32,\n",
    "                                                 class_mode = 'categorical')"
   ]
  },
  {
   "cell_type": "code",
   "execution_count": 14,
   "id": "204162e2",
   "metadata": {},
   "outputs": [
    {
     "name": "stdout",
     "output_type": "stream",
     "text": [
      "Found 106 images belonging to 4 classes.\n"
     ]
    }
   ],
   "source": [
    "test_set = test_datagen.flow_from_directory('Datasets/test',\n",
    "                                            target_size = (224, 224),\n",
    "                                            batch_size = 32,\n",
    "                                            class_mode = 'categorical')"
   ]
  },
  {
   "cell_type": "code",
   "execution_count": 15,
   "id": "330f4efa",
   "metadata": {},
   "outputs": [
    {
     "name": "stderr",
     "output_type": "stream",
     "text": [
      "C:\\Users\\niraj\\AppData\\Local\\Temp\\ipykernel_2012\\4130870686.py:3: UserWarning: `Model.fit_generator` is deprecated and will be removed in a future version. Please use `Model.fit`, which supports generators.\n",
      "  r = model.fit_generator(\n"
     ]
    },
    {
     "name": "stdout",
     "output_type": "stream",
     "text": [
      "Epoch 1/20\n",
      "WARNING:tensorflow:From C:\\Users\\niraj\\anaconda3\\Lib\\site-packages\\keras\\src\\utils\\tf_utils.py:492: The name tf.ragged.RaggedTensorValue is deprecated. Please use tf.compat.v1.ragged.RaggedTensorValue instead.\n",
      "\n",
      "WARNING:tensorflow:From C:\\Users\\niraj\\anaconda3\\Lib\\site-packages\\keras\\src\\engine\\base_layer_utils.py:384: The name tf.executing_eagerly_outside_functions is deprecated. Please use tf.compat.v1.executing_eagerly_outside_functions instead.\n",
      "\n",
      "61/61 [==============================] - 605s 10s/step - loss: 0.7838 - accuracy: 0.7355 - val_loss: 0.2844 - val_accuracy: 0.8868\n",
      "Epoch 2/20\n",
      "61/61 [==============================] - 556s 9s/step - loss: 0.2229 - accuracy: 0.9262 - val_loss: 0.2540 - val_accuracy: 0.9057\n",
      "Epoch 3/20\n",
      "61/61 [==============================] - 553s 9s/step - loss: 0.1707 - accuracy: 0.9390 - val_loss: 0.2032 - val_accuracy: 0.9057\n",
      "Epoch 4/20\n",
      "61/61 [==============================] - 553s 9s/step - loss: 0.1503 - accuracy: 0.9457 - val_loss: 0.1585 - val_accuracy: 0.9340\n",
      "Epoch 5/20\n",
      "61/61 [==============================] - 553s 9s/step - loss: 0.1107 - accuracy: 0.9677 - val_loss: 0.1330 - val_accuracy: 0.9434\n",
      "Epoch 6/20\n",
      "61/61 [==============================] - 562s 9s/step - loss: 0.1005 - accuracy: 0.9692 - val_loss: 0.2465 - val_accuracy: 0.9057\n",
      "Epoch 7/20\n",
      "61/61 [==============================] - 566s 9s/step - loss: 0.0884 - accuracy: 0.9723 - val_loss: 0.1219 - val_accuracy: 0.9340\n",
      "Epoch 8/20\n",
      "61/61 [==============================] - 558s 9s/step - loss: 0.0886 - accuracy: 0.9713 - val_loss: 0.1093 - val_accuracy: 0.9623\n",
      "Epoch 9/20\n",
      "61/61 [==============================] - 666s 11s/step - loss: 0.0731 - accuracy: 0.9759 - val_loss: 0.1442 - val_accuracy: 0.9340\n",
      "Epoch 10/20\n",
      "61/61 [==============================] - 553s 9s/step - loss: 0.0528 - accuracy: 0.9877 - val_loss: 0.0786 - val_accuracy: 0.9623\n",
      "Epoch 11/20\n",
      "61/61 [==============================] - 552s 9s/step - loss: 0.0496 - accuracy: 0.9872 - val_loss: 0.1077 - val_accuracy: 0.9434\n",
      "Epoch 12/20\n",
      "61/61 [==============================] - 2429s 40s/step - loss: 0.0417 - accuracy: 0.9897 - val_loss: 0.0842 - val_accuracy: 0.9717\n",
      "Epoch 13/20\n",
      "61/61 [==============================] - 570s 9s/step - loss: 0.0408 - accuracy: 0.9913 - val_loss: 0.0817 - val_accuracy: 0.9528\n",
      "Epoch 14/20\n",
      "61/61 [==============================] - 1775s 29s/step - loss: 0.0383 - accuracy: 0.9903 - val_loss: 0.1279 - val_accuracy: 0.9528\n",
      "Epoch 15/20\n",
      "61/61 [==============================] - 556s 9s/step - loss: 0.0336 - accuracy: 0.9923 - val_loss: 0.1031 - val_accuracy: 0.9717\n",
      "Epoch 16/20\n",
      "61/61 [==============================] - 554s 9s/step - loss: 0.0333 - accuracy: 0.9892 - val_loss: 0.0696 - val_accuracy: 0.9623\n",
      "Epoch 17/20\n",
      "61/61 [==============================] - 552s 9s/step - loss: 0.0338 - accuracy: 0.9913 - val_loss: 0.0772 - val_accuracy: 0.9717\n",
      "Epoch 18/20\n",
      "61/61 [==============================] - 1735s 29s/step - loss: 0.0363 - accuracy: 0.9877 - val_loss: 0.0796 - val_accuracy: 0.9528\n",
      "Epoch 19/20\n",
      "61/61 [==============================] - 556s 9s/step - loss: 0.0277 - accuracy: 0.9944 - val_loss: 0.1035 - val_accuracy: 0.9623\n",
      "Epoch 20/20\n",
      "61/61 [==============================] - 1509s 25s/step - loss: 0.0250 - accuracy: 0.9959 - val_loss: 0.1015 - val_accuracy: 0.9340\n"
     ]
    }
   ],
   "source": [
    "# fit the model\n",
    "# Run the cell. It will take some time to execute\n",
    "r = model.fit_generator(\n",
    "  training_set,\n",
    "  validation_data=test_set,\n",
    "  epochs=20,\n",
    "  steps_per_epoch=len(training_set),\n",
    "  validation_steps=len(test_set)\n",
    ")"
   ]
  },
  {
   "cell_type": "code",
   "execution_count": null,
   "id": "430f5957",
   "metadata": {},
   "outputs": [],
   "source": []
  },
  {
   "cell_type": "code",
   "execution_count": 16,
   "id": "f713871d",
   "metadata": {},
   "outputs": [],
   "source": [
    " import matplotlib.pyplot as plt"
   ]
  },
  {
   "cell_type": "code",
   "execution_count": 17,
   "id": "7ff0c725",
   "metadata": {},
   "outputs": [
    {
     "data": {
      "image/png": "[encoded data removed]",
      "text/plain": [
       "<Figure size 640x480 with 1 Axes>"
      ]
     },
     "metadata": {},
     "output_type": "display_data"
    },
    {
     "data": {
      "text/plain": [
       "<Figure size 640x480 with 0 Axes>"
      ]
     },
     "metadata": {},
     "output_type": "display_data"
    }
   ],
   "source": [
    "#plot the loss\n",
    "plt.plot(r.history['loss'], label='train loss')\n",
    "plt.plot(r.history['val_loss'], label='val loss')\n",
    "plt.legend()\n",
    "plt.show()\n",
    "plt.savefig('LossVal_loss')"
   ]
  },
  {
   "cell_type": "code",
   "execution_count": 18,
   "id": "d6440c29",
   "metadata": {},
   "outputs": [
    {
     "data": {
      "image/png": "[encoded data removed]",
      "text/plain": [
       "<Figure size 640x480 with 1 Axes>"
      ]
     },
     "metadata": {},
     "output_type": "display_data"
    },
    {
     "data": {
      "text/plain": [
       "<Figure size 640x480 with 0 Axes>"
      ]
     },
     "metadata": {},
     "output_type": "display_data"
    }
   ],
   "source": [
    "#plot the Accuracy\n",
    "plt.plot(r.history['accuracy'], label='train acc')\n",
    "plt.plot(r.history['val_accuracy'], label='val acc')\n",
    "plt.legend()\n",
    "plt.show()\n",
    "plt.savefig('AccVal_loss')"
   ]
  },
  {
   "cell_type": "code",
   "execution_count": 19,
   "id": "e7784b2a",
   "metadata": {},
   "outputs": [
    {
     "name": "stderr",
     "output_type": "stream",
     "text": [
      "C:\\Users\\niraj\\anaconda3\\Lib\\site-packages\\keras\\src\\engine\\training.py:3103: UserWarning: You are saving your model as an HDF5 file via `model.save()`. This file format is considered legacy. We recommend using instead the native Keras format, e.g. `model.save('my_model.keras')`.\n",
      "  saving_api.save_model(\n"
     ]
    }
   ],
   "source": [
    "#save it as a h5 file\n",
    "\n",
    "from tensorflow.keras.models import load_model\n",
    "model.save('model_vgg16.h5')"
   ]
  },
  {
   "cell_type": "code",
   "execution_count": null,
   "id": "ec8b9cdf",
   "metadata": {},
   "outputs": [],
   "source": []
  },
  {
   "cell_type": "code",
   "execution_count": 20,
   "id": "23ff60d8",
   "metadata": {},
   "outputs": [
    {
     "name": "stdout",
     "output_type": "stream",
     "text": [
      "4/4 [==============================] - 41s 7s/step\n"
     ]
    }
   ],
   "source": [
    "y_pred=model.predict(test_set)"
   ]
  },
  {
   "cell_type": "code",
   "execution_count": 21,
   "id": "72c14094",
   "metadata": {},
   "outputs": [
    {
     "data": {
      "text/plain": [
       "array([[2.30258593e-04, 2.33665614e-05, 9.98670459e-01, 1.07597234e-03],\n",
       "       [1.29385371e-04, 4.34669225e-08, 9.99868035e-01, 2.47168487e-06],\n",
       "       [9.58795130e-01, 4.11281511e-02, 3.66634013e-05, 4.00498720e-05],\n",
       "       [9.99936461e-01, 1.21174111e-07, 6.33952150e-05, 5.49636514e-09],\n",
       "       [1.64588520e-04, 2.40152538e-01, 1.05562467e-05, 7.59672344e-01],\n",
       "       [4.90152044e-03, 2.67932005e-03, 2.83892895e-03, 9.89580333e-01],\n",
       "       [3.37541550e-01, 1.11384375e-03, 6.30458355e-01, 3.08862440e-02],\n",
       "       [7.88387915e-05, 6.96820533e-03, 6.87473221e-04, 9.92265522e-01],\n",
       "       [2.27241500e-04, 3.34421275e-05, 9.71304459e-09, 9.99739230e-01],\n",
       "       [8.08028562e-06, 1.62091770e-03, 2.95123773e-05, 9.98341441e-01],\n",
       "       [5.77154897e-05, 9.96190667e-01, 1.12301634e-04, 3.63923050e-03],\n",
       "       [5.22767805e-05, 9.99343216e-01, 2.59157805e-05, 5.78630017e-04],\n",
       "       [5.44436989e-06, 9.82364833e-01, 5.26436816e-06, 1.76244639e-02],\n",
       "       [9.97094154e-01, 5.87614579e-08, 2.90501420e-03, 7.50570905e-07],\n",
       "       [9.61328149e-01, 5.64432696e-07, 3.86712328e-02, 2.05352002e-08],\n",
       "       [9.99999523e-01, 1.88456738e-07, 1.87408261e-07, 9.43585832e-09],\n",
       "       [5.12120663e-04, 9.95796323e-01, 1.26804762e-05, 3.67885502e-03],\n",
       "       [2.28202935e-05, 1.35693199e-03, 3.19295339e-07, 9.98620033e-01],\n",
       "       [2.32723579e-02, 5.31939440e-04, 9.01534319e-01, 7.46613890e-02],\n",
       "       [3.39580838e-05, 9.98472154e-01, 2.25391636e-06, 1.49170496e-03],\n",
       "       [1.37187253e-05, 6.89806649e-04, 2.99249405e-06, 9.99293447e-01],\n",
       "       [6.06358110e-04, 9.75709498e-01, 7.71553096e-05, 2.36070268e-02],\n",
       "       [9.86215998e-09, 9.36973210e-14, 1.00000000e+00, 1.41473823e-12],\n",
       "       [9.58127566e-05, 4.30684447e-01, 7.79067195e-05, 5.69141924e-01],\n",
       "       [7.83816620e-04, 2.26864572e-08, 9.99216199e-01, 2.63587427e-08],\n",
       "       [1.48908017e-04, 9.91061032e-01, 3.74999836e-05, 8.75252765e-03],\n",
       "       [6.01115680e-05, 9.09363687e-01, 9.85764340e-03, 8.07185993e-02],\n",
       "       [1.84365911e-06, 6.70354639e-05, 2.08817455e-05, 9.99910235e-01],\n",
       "       [6.51411767e-07, 9.99975681e-01, 1.36593584e-07, 2.34254785e-05],\n",
       "       [7.98496840e-05, 9.95259106e-01, 5.27202428e-06, 4.65583848e-03],\n",
       "       [8.80428076e-01, 5.14546991e-06, 1.19566128e-01, 6.72483054e-07],\n",
       "       [6.75068804e-05, 7.07913237e-03, 1.14891132e-04, 9.92738545e-01],\n",
       "       [1.62792901e-04, 9.93222594e-01, 6.15751487e-05, 6.55307109e-03],\n",
       "       [6.08429764e-06, 9.99937773e-01, 1.48647032e-05, 4.12387817e-05],\n",
       "       [1.41690873e-06, 1.19035167e-06, 2.84590305e-06, 9.99994516e-01],\n",
       "       [1.00000000e+00, 5.12686569e-08, 4.28892193e-08, 1.18500354e-09],\n",
       "       [6.70254230e-05, 1.03233585e-11, 9.99933004e-01, 2.84868982e-12],\n",
       "       [9.99898434e-01, 3.03730374e-09, 1.00149962e-04, 1.37763880e-06],\n",
       "       [9.99994278e-01, 4.95979339e-06, 6.88879197e-07, 5.32594413e-08],\n",
       "       [9.39337497e-06, 9.99986887e-01, 4.01025744e-07, 3.29942895e-06],\n",
       "       [5.24192510e-05, 1.17213875e-02, 1.35641231e-03, 9.86869872e-01],\n",
       "       [4.81258830e-05, 4.87979621e-01, 1.51978485e-09, 5.11972129e-01],\n",
       "       [1.76840365e-06, 3.76335411e-05, 8.61175380e-08, 9.99960423e-01],\n",
       "       [6.15338604e-06, 8.16547330e-10, 9.99993801e-01, 5.18575599e-11],\n",
       "       [9.98353362e-01, 1.64585785e-07, 1.64446689e-03, 1.96909104e-06],\n",
       "       [1.44085760e-04, 1.65413076e-05, 9.99839306e-01, 6.23679526e-08],\n",
       "       [3.42436942e-06, 9.98611093e-01, 8.38828157e-07, 1.38464617e-03],\n",
       "       [8.56838882e-01, 3.08565359e-06, 1.43157616e-01, 3.93792817e-07],\n",
       "       [3.81135052e-08, 1.18089671e-09, 2.57035282e-07, 9.99999762e-01],\n",
       "       [9.99993086e-01, 9.16469656e-09, 6.83885492e-06, 1.11582217e-07],\n",
       "       [3.15580051e-04, 5.38559016e-06, 9.99602258e-01, 7.68029786e-05],\n",
       "       [6.46374174e-05, 8.52494240e-01, 3.35378354e-05, 1.47407651e-01],\n",
       "       [9.99970913e-01, 1.10440658e-06, 2.79199157e-05, 1.29022638e-07],\n",
       "       [1.45278329e-06, 8.54264159e-10, 9.99998569e-01, 9.71075442e-11],\n",
       "       [2.23795811e-04, 6.79735065e-01, 3.58249818e-05, 3.20005238e-01],\n",
       "       [1.05346589e-06, 3.68472527e-12, 9.99998927e-01, 1.04556823e-11],\n",
       "       [4.24881728e-06, 5.04100288e-04, 1.01871694e-04, 9.99389768e-01],\n",
       "       [3.34156095e-04, 9.83934224e-01, 7.19766598e-04, 1.50118275e-02],\n",
       "       [5.11617698e-02, 5.66228151e-01, 8.15156323e-04, 3.81794989e-01],\n",
       "       [2.49230169e-07, 3.25608453e-05, 5.12521592e-06, 9.99962091e-01],\n",
       "       [4.53054014e-07, 9.99983311e-01, 6.82374202e-09, 1.62367542e-05],\n",
       "       [9.99958277e-01, 1.24887663e-06, 4.03579106e-05, 8.22210477e-09],\n",
       "       [1.02259881e-04, 2.89576035e-03, 5.29133104e-06, 9.96996641e-01],\n",
       "       [8.46560579e-06, 1.67218107e-03, 2.37595057e-03, 9.95943487e-01],\n",
       "       [9.99055088e-01, 5.60264880e-06, 9.39298538e-04, 2.37442244e-08],\n",
       "       [3.19198771e-05, 2.89765187e-04, 5.64894290e-04, 9.99113381e-01],\n",
       "       [9.99851227e-01, 1.48761581e-04, 9.92579352e-09, 1.48655410e-09],\n",
       "       [9.99983788e-01, 1.35603022e-06, 1.36926892e-05, 1.14873365e-06],\n",
       "       [9.99927759e-01, 1.78198411e-06, 6.50208094e-05, 5.45074454e-06],\n",
       "       [1.35515525e-03, 5.33730164e-02, 9.44482267e-01, 7.89630692e-04],\n",
       "       [2.90755861e-06, 1.67087603e-06, 9.99929190e-01, 6.62777893e-05],\n",
       "       [2.36044987e-03, 1.02376490e-08, 9.97639537e-01, 1.64518674e-08],\n",
       "       [1.01924593e-06, 9.99616027e-01, 2.97207453e-06, 3.79974867e-04],\n",
       "       [3.03908769e-06, 7.32726839e-05, 2.43583173e-07, 9.99923348e-01],\n",
       "       [5.82053617e-04, 1.79211963e-06, 9.99282539e-01, 1.33648122e-04],\n",
       "       [8.77954473e-04, 3.44191733e-08, 9.99121487e-01, 5.04691400e-07],\n",
       "       [3.69658088e-03, 7.51353800e-03, 7.73460092e-03, 9.81055379e-01],\n",
       "       [9.99226928e-01, 3.74625706e-05, 1.16756295e-04, 6.18857739e-04],\n",
       "       [7.89460391e-05, 9.93165314e-01, 7.72963449e-06, 6.74803415e-03],\n",
       "       [5.82046837e-08, 1.67130793e-06, 4.29021554e-07, 9.99997854e-01],\n",
       "       [1.92095354e-06, 9.62341229e-09, 9.99997377e-01, 6.52115887e-07],\n",
       "       [6.39412538e-05, 1.37123221e-03, 9.98216569e-01, 3.48317757e-04],\n",
       "       [2.30258593e-04, 2.33665614e-05, 9.98670459e-01, 1.07597234e-03],\n",
       "       [2.50173733e-03, 5.26850519e-04, 9.82923567e-01, 1.40477400e-02],\n",
       "       [7.71570776e-05, 4.28048219e-09, 9.99922872e-01, 4.52002281e-12],\n",
       "       [5.52522533e-06, 7.05690506e-11, 9.99994516e-01, 1.19885303e-13],\n",
       "       [2.73075020e-05, 9.99516010e-01, 1.84467026e-05, 4.38256277e-04],\n",
       "       [9.90581393e-01, 3.10521464e-05, 8.42069183e-03, 9.66720923e-04],\n",
       "       [9.99991655e-01, 6.09212702e-06, 1.89908246e-06, 3.20395031e-07],\n",
       "       [2.51667825e-06, 4.90723061e-04, 4.09156673e-05, 9.99465764e-01],\n",
       "       [2.41547809e-07, 9.99864578e-01, 5.43470094e-07, 1.34571092e-04],\n",
       "       [1.20830943e-03, 6.92926096e-06, 9.98781502e-01, 3.30919556e-06],\n",
       "       [3.83800099e-04, 9.14834459e-07, 9.99614954e-01, 2.66364822e-07],\n",
       "       [3.86780948e-06, 9.98400748e-01, 1.27541847e-04, 1.46780256e-03],\n",
       "       [5.42017333e-05, 4.91002062e-03, 1.07138278e-03, 9.93964493e-01],\n",
       "       [1.72169820e-07, 4.99092721e-06, 4.96584240e-09, 9.99994874e-01],\n",
       "       [7.08633816e-05, 3.56772661e-01, 6.89635999e-05, 6.43087506e-01],\n",
       "       [3.06745903e-07, 2.51440360e-04, 3.51799628e-07, 9.99747813e-01],\n",
       "       [2.67904568e-07, 4.02246114e-05, 3.28944261e-05, 9.99926686e-01],\n",
       "       [9.99998808e-01, 2.53001559e-07, 9.21081210e-07, 1.16592170e-11],\n",
       "       [8.88941344e-04, 1.27444495e-04, 9.98977304e-01, 6.33900254e-06],\n",
       "       [6.46494129e-08, 3.48450612e-06, 6.82464147e-08, 9.99996424e-01],\n",
       "       [9.87533450e-01, 7.20323169e-06, 7.43037090e-03, 5.02902176e-03],\n",
       "       [9.99793470e-01, 4.96461610e-08, 2.03069489e-04, 3.45816488e-06],\n",
       "       [4.87133628e-04, 7.93281885e-10, 9.99512911e-01, 3.01342368e-10],\n",
       "       [8.32002982e-03, 5.73285433e-05, 9.45220411e-01, 4.64022793e-02]],\n",
       "      dtype=float32)"
      ]
     },
     "execution_count": 21,
     "metadata": {},
     "output_type": "execute_result"
    }
   ],
   "source": [
    "y_pred"
   ]
  },
  {
   "cell_type": "code",
   "execution_count": null,
   "id": "6a9c320c",
   "metadata": {},
   "outputs": [],
   "source": [
    "import numpy as np\n",
    "y_pred=np.argmax(y_pred, axis=1)"
   ]
  },
  {
   "cell_type": "code",
   "execution_count": 23,
   "id": "b9dd9d8a",
   "metadata": {},
   "outputs": [
    {
     "data": {
      "text/plain": [
       "array([2, 2, 0, 0, 3, 3, 2, 3, 3, 3, 1, 1, 1, 0, 0, 0, 1, 3, 2, 1, 3, 1,\n",
       "       2, 3, 2, 1, 1, 3, 1, 1, 0, 3, 1, 1, 3, 0, 2, 0, 0, 1, 3, 3, 3, 2,\n",
       "       0, 2, 1, 0, 3, 0, 2, 1, 0, 2, 1, 2, 3, 1, 1, 3, 1, 0, 3, 3, 0, 3,\n",
       "       0, 0, 0, 2, 2, 2, 1, 3, 2, 2, 3, 0, 1, 3, 2, 2, 2, 2, 2, 2, 1, 0,\n",
       "       0, 3, 1, 2, 2, 1, 3, 3, 3, 3, 3, 0, 2, 3, 0, 0, 2, 2], dtype=int64)"
      ]
     },
     "execution_count": 23,
     "metadata": {},
     "output_type": "execute_result"
    }
   ],
   "source": [
    "y_pred"
   ]
  },
  {
   "cell_type": "code",
   "execution_count": null,
   "id": "c6357138",
   "metadata": {},
   "outputs": [],
   "source": []
  },
  {
   "cell_type": "code",
   "execution_count": 26,
   "id": "e6940358",
   "metadata": {},
   "outputs": [],
   "source": [
    "from tensorflow.keras.models import load_model\n",
    "from tensorflow.keras.preprocessing import image"
   ]
  },
  {
   "cell_type": "code",
   "execution_count": 47,
   "id": "7d259945",
   "metadata": {},
   "outputs": [],
   "source": [
    "model=load_model('model_vgg16.h5')"
   ]
  },
  {
   "cell_type": "code",
   "execution_count": null,
   "id": "481fb1b8",
   "metadata": {},
   "outputs": [],
   "source": []
  },
  {
   "cell_type": "code",
   "execution_count": 30,
   "id": "be888711",
   "metadata": {},
   "outputs": [],
   "source": [
    "img=image.load_img('Datasets/test/fresh cotton leaf/d (122)_iaip.jpg', target_size=(224, 224))"
   ]
  },
  {
   "cell_type": "code",
   "execution_count": 31,
   "id": "c6f0545c",
   "metadata": {},
   "outputs": [],
   "source": [
    "x=image.img_to_array(img)"
   ]
  },
  {
   "cell_type": "code",
   "execution_count": 32,
   "id": "829f71c0",
   "metadata": {},
   "outputs": [
    {
     "data": {
      "text/plain": [
       "array([[[148., 187., 130.],\n",
       "        [147., 187., 127.],\n",
       "        [166., 206., 143.],\n",
       "        ...,\n",
       "        [ 55.,  49.,  35.],\n",
       "        [ 52.,  46.,  32.],\n",
       "        [ 53.,  47.,  33.]],\n",
       "\n",
       "       [[146., 185., 128.],\n",
       "        [145., 185., 125.],\n",
       "        [165., 205., 142.],\n",
       "        ...,\n",
       "        [ 62.,  56.,  42.],\n",
       "        [ 58.,  52.,  38.],\n",
       "        [ 68.,  62.,  48.]],\n",
       "\n",
       "       [[149., 188., 131.],\n",
       "        [148., 188., 128.],\n",
       "        [168., 208., 145.],\n",
       "        ...,\n",
       "        [ 67.,  61.,  47.],\n",
       "        [ 63.,  57.,  43.],\n",
       "        [ 61.,  55.,  41.]],\n",
       "\n",
       "       ...,\n",
       "\n",
       "       [[155., 183., 108.],\n",
       "        [161., 189., 112.],\n",
       "        [174., 203., 121.],\n",
       "        ...,\n",
       "        [114., 160.,  88.],\n",
       "        [116., 162.,  90.],\n",
       "        [122., 168.,  96.]],\n",
       "\n",
       "       [[154., 183., 101.],\n",
       "        [149., 178.,  96.],\n",
       "        [161., 190., 108.],\n",
       "        ...,\n",
       "        [110., 155.,  90.],\n",
       "        [121., 167.,  95.],\n",
       "        [122., 168.,  96.]],\n",
       "\n",
       "       [[157., 186., 104.],\n",
       "        [134., 163.,  81.],\n",
       "        [148., 177.,  95.],\n",
       "        ...,\n",
       "        [121., 166., 101.],\n",
       "        [115., 161.,  89.],\n",
       "        [121., 167.,  95.]]], dtype=float32)"
      ]
     },
     "execution_count": 32,
     "metadata": {},
     "output_type": "execute_result"
    }
   ],
   "source": [
    "x"
   ]
  },
  {
   "cell_type": "code",
   "execution_count": 33,
   "id": "5cf187f2",
   "metadata": {},
   "outputs": [
    {
     "data": {
      "text/plain": [
       "(224, 224, 3)"
      ]
     },
     "execution_count": 33,
     "metadata": {},
     "output_type": "execute_result"
    }
   ],
   "source": [
    "x.shape"
   ]
  },
  {
   "cell_type": "code",
   "execution_count": 34,
   "id": "5ac85f2f",
   "metadata": {},
   "outputs": [],
   "source": [
    "x=x/255"
   ]
  },
  {
   "cell_type": "code",
   "execution_count": 37,
   "id": "e09fec40",
   "metadata": {},
   "outputs": [],
   "source": [
    "from tensorflow.keras.applications.vgg16 import preprocess_input"
   ]
  },
  {
   "cell_type": "code",
   "execution_count": 61,
   "id": "34fc6a6c",
   "metadata": {},
   "outputs": [
    {
     "data": {
      "text/plain": [
       "(1, 1, 1, 1, 1, 1, 224, 224, 3)"
      ]
     },
     "execution_count": 61,
     "metadata": {},
     "output_type": "execute_result"
    }
   ],
   "source": [
    "import numpy as np\n",
    "x=np.expand_dims(x, axis=0)\n",
    "img_data=preprocess_input(x)\n",
    "img_data.shape"
   ]
  },
  {
   "cell_type": "code",
   "execution_count": null,
   "id": "d4eadd78",
   "metadata": {},
   "outputs": [],
   "source": []
  },
  {
   "cell_type": "code",
   "execution_count": 56,
   "id": "90a60198",
   "metadata": {},
   "outputs": [
    {
     "data": {
      "text/plain": [
       "array([[[[[[[-123.09961 , -116.04567 , -103.4292  ],\n",
       "            [-123.10353 , -116.04567 , -103.44096 ],\n",
       "            [-123.02902 , -115.97115 , -103.37822 ],\n",
       "            ...,\n",
       "            [-123.46432 , -116.586845, -103.80175 ],\n",
       "            [-123.47608 , -116.59861 , -103.813515],\n",
       "            [-123.47216 , -116.59469 , -103.80959 ]],\n",
       "\n",
       "           [[-123.10745 , -116.05351 , -103.43704 ],\n",
       "            [-123.111374, -116.05351 , -103.44881 ],\n",
       "            [-123.03294 , -115.975075, -103.38214 ],\n",
       "            ...,\n",
       "            [-123.43687 , -116.559395, -103.7743  ],\n",
       "            [-123.45255 , -116.57508 , -103.789986],\n",
       "            [-123.41333 , -116.535866, -103.75077 ]],\n",
       "\n",
       "           [[-123.09569 , -116.04175 , -103.42528 ],\n",
       "            [-123.09961 , -116.04175 , -103.43704 ],\n",
       "            [-123.02118 , -115.96331 , -103.37038 ],\n",
       "            ...,\n",
       "            [-123.41725 , -116.53979 , -103.75469 ],\n",
       "            [-123.432945, -116.55547 , -103.77038 ],\n",
       "            [-123.44079 , -116.56332 , -103.77822 ]],\n",
       "\n",
       "           ...,\n",
       "\n",
       "           [[-123.07216 , -116.061356, -103.51547 ],\n",
       "            [-123.04863 , -116.03783 , -103.49979 ],\n",
       "            [-122.99765 , -115.98292 , -103.46449 ],\n",
       "            ...,\n",
       "            [-123.23294 , -116.15155 , -103.5939  ],\n",
       "            [-123.2251  , -116.14371 , -103.58606 ],\n",
       "            [-123.20157 , -116.12018 , -103.56253 ]],\n",
       "\n",
       "           [[-123.07608 , -116.061356, -103.54292 ],\n",
       "            [-123.09569 , -116.08096 , -103.56253 ],\n",
       "            [-123.04863 , -116.033905, -103.51547 ],\n",
       "            ...,\n",
       "            [-123.24863 , -116.17116 , -103.58606 ],\n",
       "            [-123.20549 , -116.1241  , -103.56645 ],\n",
       "            [-123.20157 , -116.12018 , -103.56253 ]],\n",
       "\n",
       "           [[-123.064316, -116.04959 , -103.53116 ],\n",
       "            [-123.15451 , -116.139786, -103.62135 ],\n",
       "            [-123.09961 , -116.084885, -103.56645 ],\n",
       "            ...,\n",
       "            [-123.20549 , -116.12802 , -103.54292 ],\n",
       "            [-123.22902 , -116.14763 , -103.58998 ],\n",
       "            [-123.20549 , -116.1241  , -103.56645 ]]]]]]], dtype=float32)"
      ]
     },
     "execution_count": 56,
     "metadata": {},
     "output_type": "execute_result"
    }
   ],
   "source": [
    "img_data"
   ]
  },
  {
   "cell_type": "code",
   "execution_count": null,
   "id": "51a65d3e",
   "metadata": {},
   "outputs": [],
   "source": []
  },
  {
   "cell_type": "code",
   "execution_count": null,
   "id": "3df1e10d",
   "metadata": {},
   "outputs": [],
   "source": []
  }
 ],
 "metadata": {
  "kernelspec": {
   "display_name": "Python 3 (ipykernel)",
   "language": "python",
   "name": "python3"
  },
  "language_info": {
   "codemirror_mode": {
    "name": "ipython",
    "version": 3
   },
   "file_extension": ".py",
   "mimetype": "text/x-python",
   "name": "python",
   "nbconvert_exporter": "python",
   "pygments_lexer": "ipython3",
   "version": "3.11.5"
  }
 },
 "nbformat": 4,
 "nbformat_minor": 5
}
